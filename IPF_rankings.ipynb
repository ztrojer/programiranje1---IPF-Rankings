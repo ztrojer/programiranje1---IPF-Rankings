{
 "cells": [
  {
   "cell_type": "markdown",
   "metadata": {},
   "source": [
    "# IPF RANKINGS ANALIZA"
   ]
  },
  {
   "cell_type": "code",
   "execution_count": 3,
   "metadata": {
    "scrolled": false
   },
   "outputs": [],
   "source": [
    "import pandas as pd\n",
    "pd.options.display.max_rows = 20\n",
    "%matplotlib inline\n",
    "#nalozimo naslednji paket za dodajanje naslova grafov, legend itd.\n",
    "import matplotlib.pyplot as plt\n",
    "#definiramo svojo paleto barv\n",
    "my_colors = [(x/12.0, x/20.0, 0.75) for x in range(12)]"
   ]
  },
  {
   "cell_type": "markdown",
   "metadata": {},
   "source": [
    "## UREJANJE PODATKOV\n",
    "Preberemo csv, združimo podatke v tabeli *moski* in *zenske*."
   ]
  },
  {
   "cell_type": "code",
   "execution_count": 4,
   "metadata": {},
   "outputs": [],
   "source": [
    "MM1 = pd.read_csv(\"uvoz_podatkov/6th_world_classic_MM1.csv\", index_col = \"ID_tekmovalca\")\n",
    "MM2 = pd.read_csv(\"uvoz_podatkov/6th_world_classic_MM2.csv\", index_col = \"ID_tekmovalca\")\n",
    "MM3 = pd.read_csv(\"uvoz_podatkov/6th_world_classic_MM3.csv\", index_col = \"ID_tekmovalca\")\n",
    "MM4 = pd.read_csv(\"uvoz_podatkov/6th_world_classic_MM4.csv\", index_col = \"ID_tekmovalca\")\n",
    "\n",
    "WM1 = pd.read_csv(\"uvoz_podatkov/6th_world_classic_WM1.csv\", index_col = \"ID_tekmovalca\")\n",
    "WM2 = pd.read_csv(\"uvoz_podatkov/6th_world_classic_WM2.csv\", index_col = \"ID_tekmovalca\")\n",
    "WM3 = pd.read_csv(\"uvoz_podatkov/6th_world_classic_WM3.csv\", index_col = \"ID_tekmovalca\")\n",
    "WM4 = pd.read_csv(\"uvoz_podatkov/6th_world_classic_WM4.csv\", index_col = \"ID_tekmovalca\")\n",
    "\n",
    "wMM1 = pd.read_csv(\"uvoz_podatkov/world_masters_MM1.csv\", index_col = \"ID_tekmovalca\")\n",
    "wMM2 = pd.read_csv(\"uvoz_podatkov/world_masters_MM2.csv\", index_col = \"ID_tekmovalca\")\n",
    "wMM3 = pd.read_csv(\"uvoz_podatkov/world_masters_MM3.csv\", index_col = \"ID_tekmovalca\")\n",
    "wMM4 = pd.read_csv(\"uvoz_podatkov/world_masters_MM4.csv\", index_col = \"ID_tekmovalca\")\n",
    "\n",
    "wWM1 = pd.read_csv(\"uvoz_podatkov/world_masters_WM1.csv\", index_col = \"ID_tekmovalca\")\n",
    "wWM2 = pd.read_csv(\"uvoz_podatkov/world_masters_WM2.csv\", index_col = \"ID_tekmovalca\")\n",
    "wWM3 = pd.read_csv(\"uvoz_podatkov/world_masters_WM3.csv\", index_col = \"ID_tekmovalca\")\n",
    "wWM4 = pd.read_csv(\"uvoz_podatkov/world_masters_WM4.csv\", index_col = \"ID_tekmovalca\")\n",
    "\n",
    "MJ = pd.read_csv(\"uvoz_podatkov/6th_world_classic_MJ.csv\", index_col = \"ID_tekmovalca\")\n",
    "WJ = pd.read_csv(\"uvoz_podatkov/6th_world_classic_WJ.csv\", index_col = \"ID_tekmovalca\")\n",
    "\n",
    "MSJ = pd.read_csv(\"uvoz_podatkov/6th_world_classic_MSJ.csv\", index_col = \"ID_tekmovalca\")\n",
    "WSJ = pd.read_csv(\"uvoz_podatkov/6th_world_classic_WSJ.csv\", index_col = \"ID_tekmovalca\")\n",
    "\n",
    "\n",
    "moski = pd.concat([MM1, MM2, MM3, MM4, wMM1, wMM2, wMM3, wMM4, MJ, MSJ])\n",
    "zenske = pd.concat([WM1, WM2, WM3, WM4, wWM1, wWM2, wWM3, wWM4, WJ, WSJ])"
   ]
  },
  {
   "cell_type": "markdown",
   "metadata": {},
   "source": [
    "V tabeli *moski* in *zenske* dodamo nov stolpec *kategorija*, v katerem so kategorije v katero tekmovalec spada. V ta namen definiramo funkciji *kategorija_m* in *kategorija_z*, ki tekmovalcu pripiše ustrezno skupino. Obema dodamo tudi nov stolpec *spol*. Tabeli nato združimo v tabelo *tekmovalci*."
   ]
  },
  {
   "cell_type": "code",
   "execution_count": 5,
   "metadata": {},
   "outputs": [],
   "source": [
    "def kategorija_m(s):\n",
    "    if (s['teza'] <= 53):\n",
    "        return 'moški 53 kg'\n",
    "    elif (s['teza'] <= 59):\n",
    "        return 'moški 59 kg'\n",
    "    elif (s['teza'] <= 66):\n",
    "        return 'moški 66 kg'\n",
    "    elif (s['teza'] <= 74):\n",
    "        return 'moški 74 kg'\n",
    "    elif (s['teza'] <= 83):\n",
    "        return 'moški 83 kg'\n",
    "    elif (s['teza'] <= 93):\n",
    "        return 'moški 93 kg'\n",
    "    elif (s['teza'] <= 105):\n",
    "        return 'moški 105 kg'\n",
    "    elif (s['teza'] <= 120):\n",
    "        return 'moški 120 kg'\n",
    "    else:\n",
    "        return 'moški +120 kg'\n",
    "    \n",
    "def kategorija_z(s):\n",
    "    if (s['teza'] <= 43):\n",
    "        return 'ženske 43 kg'\n",
    "    elif (s['teza'] <= 47):\n",
    "        return 'ženske 47 kg'\n",
    "    elif (s['teza'] <= 52):\n",
    "        return 'ženske 52 kg'\n",
    "    elif (s['teza'] <= 57):\n",
    "        return 'ženske 57 kg'\n",
    "    elif (s['teza'] <= 63):\n",
    "        return 'ženske 63 kg'\n",
    "    elif (s['teza'] <= 72):\n",
    "        return 'ženske 72 kg'\n",
    "    elif (s['teza'] <= 84):\n",
    "        return 'ženske 84 kg'\n",
    "    else:\n",
    "        return 'ženske +84 kg'\n",
    "moski['kategorija'] = moski.apply(kategorija_m, axis=1)\n",
    "zenske['kategorija'] = zenske.apply(kategorija_z, axis=1)\n",
    "moski['spol'] = 'moski'\n",
    "zenske['spol'] = 'zenska'\n",
    "tekmovalci = pd.concat([moski, zenske])"
   ]
  },
  {
   "cell_type": "markdown",
   "metadata": {},
   "source": [
    "# ANALIZA PODATKOV"
   ]
  },
  {
   "cell_type": "markdown",
   "metadata": {},
   "source": [
    "Preverili bomo tri hipoteze, poleg pa odgovorili še na nekaj vprašanj.\n",
    "\n",
    "Zanima nas, iz katere starostne skupine je največ tekmovalcev. Dodamo nov stolpec *desetletje*, v katerem desetletju je tekmovalec rojen."
   ]
  },
  {
   "cell_type": "code",
   "execution_count": 6,
   "metadata": {
    "scrolled": true
   },
   "outputs": [
    {
     "data": {
      "text/plain": [
       "desetletje\n",
       "1980      1\n",
       "1930      3\n",
       "1940     50\n",
       "2000     92\n",
       "1950     98\n",
       "1960    139\n",
       "1990    140\n",
       "1970    144\n",
       "dtype: int64"
      ]
     },
     "execution_count": 6,
     "metadata": {},
     "output_type": "execute_result"
    }
   ],
   "source": [
    "tekmovalci['desetletje'] = 10 * (tekmovalci.letnica_rojstva // 10)\n",
    "tekmovalci.groupby('desetletje').size().sort_values()"
   ]
  },
  {
   "cell_type": "code",
   "execution_count": 79,
   "metadata": {},
   "outputs": [
    {
     "data": {
      "text/plain": [
       "(Text(0.5, 1.0, 'Število tekmovalcev po desetletjih'), Text(0, 0.5, 'število'))"
      ]
     },
     "execution_count": 79,
     "metadata": {},
     "output_type": "execute_result"
    },
    {
     "data": {
      "image/png": "[encoded data removed]",
      "text/plain": [
       "<Figure size 432x288 with 1 Axes>"
      ]
     },
     "metadata": {
      "needs_background": "light"
     },
     "output_type": "display_data"
    }
   ],
   "source": [
    "tekmovalci.groupby('desetletje').size().plot(kind = 'bar', color = my_colors)\n",
    "plt.title('Število tekmovalcev po desetletjih'), plt.ylabel(\"število\")"
   ]
  },
  {
   "cell_type": "markdown",
   "metadata": {},
   "source": [
    "Zanimivo je, da samo en tekmovalec pripada skupini 1980 - 1989. Poglejmo si, kdo to je"
   ]
  },
  {
   "cell_type": "code",
   "execution_count": 80,
   "metadata": {},
   "outputs": [
    {
     "data": {
      "text/html": [
       "<div>\n",
       "<style scoped>\n",
       "    .dataframe tbody tr th:only-of-type {\n",
       "        vertical-align: middle;\n",
       "    }\n",
       "\n",
       "    .dataframe tbody tr th {\n",
       "        vertical-align: top;\n",
       "    }\n",
       "\n",
       "    .dataframe thead th {\n",
       "        text-align: right;\n",
       "    }\n",
       "</style>\n",
       "<table border=\"1\" class=\"dataframe\">\n",
       "  <thead>\n",
       "    <tr style=\"text-align: right;\">\n",
       "      <th></th>\n",
       "      <th>uvrstitev</th>\n",
       "      <th>ime</th>\n",
       "      <th>razred</th>\n",
       "      <th>letnica_rojstva</th>\n",
       "      <th>drzava</th>\n",
       "      <th>teza</th>\n",
       "      <th>pocep</th>\n",
       "      <th>potisk_s_prsi</th>\n",
       "      <th>mrtvi_dvig</th>\n",
       "      <th>skupaj</th>\n",
       "      <th>tocke</th>\n",
       "      <th>kategorija</th>\n",
       "      <th>spol</th>\n",
       "      <th>desetletje</th>\n",
       "    </tr>\n",
       "    <tr>\n",
       "      <th>ID_tekmovalca</th>\n",
       "      <th></th>\n",
       "      <th></th>\n",
       "      <th></th>\n",
       "      <th></th>\n",
       "      <th></th>\n",
       "      <th></th>\n",
       "      <th></th>\n",
       "      <th></th>\n",
       "      <th></th>\n",
       "      <th></th>\n",
       "      <th></th>\n",
       "      <th></th>\n",
       "      <th></th>\n",
       "      <th></th>\n",
       "    </tr>\n",
       "  </thead>\n",
       "  <tbody>\n",
       "    <tr>\n",
       "      <th>1015958</th>\n",
       "      <td>3</td>\n",
       "      <td>Gómez Izquierdo Jesús David</td>\n",
       "      <td>J</td>\n",
       "      <td>1988</td>\n",
       "      <td>Colombia</td>\n",
       "      <td>52.75</td>\n",
       "      <td>160</td>\n",
       "      <td>95</td>\n",
       "      <td>185</td>\n",
       "      <td>440</td>\n",
       "      <td>425.38</td>\n",
       "      <td>moški 53 kg</td>\n",
       "      <td>moski</td>\n",
       "      <td>1980</td>\n",
       "    </tr>\n",
       "  </tbody>\n",
       "</table>\n",
       "</div>"
      ],
      "text/plain": [
       "              uvrstitev                          ime razred  letnica_rojstva  \\\n",
       "ID_tekmovalca                                                                  \n",
       "1015958               3  Gómez Izquierdo Jesús David      J             1988   \n",
       "\n",
       "                 drzava   teza  pocep  potisk_s_prsi  mrtvi_dvig  skupaj  \\\n",
       "ID_tekmovalca                                                              \n",
       "1015958        Colombia  52.75    160             95         185     440   \n",
       "\n",
       "                tocke   kategorija   spol  desetletje  \n",
       "ID_tekmovalca                                          \n",
       "1015958        425.38  moški 53 kg  moski        1980  "
      ]
     },
     "execution_count": 80,
     "metadata": {},
     "output_type": "execute_result"
    }
   ],
   "source": [
    "tekmovalci[tekmovalci.desetletje == 1980]"
   ]
  },
  {
   "cell_type": "markdown",
   "metadata": {},
   "source": [
    "###### **Hipoteza 1**: \n",
    "Ali obstaja povezava med starostjo in rezultatom posameznika."
   ]
  },
  {
   "cell_type": "code",
   "execution_count": 81,
   "metadata": {
    "scrolled": true
   },
   "outputs": [
    {
     "data": {
      "image/png": "[encoded data removed]",
      "text/plain": [
       "<Figure size 432x288 with 1 Axes>"
      ]
     },
     "metadata": {
      "needs_background": "light"
     },
     "output_type": "display_data"
    }
   ],
   "source": [
    "tekmovalci[tekmovalci.tocke > 100].plot.scatter('letnica_rojstva', 'tocke');\n",
    "plt.title('Povezava med starostjo in doseženimi točkami'), plt.xlabel(\"letnica rojstva\"), plt.ylabel(\"točke\");"
   ]
  },
  {
   "cell_type": "markdown",
   "metadata": {},
   "source": [
    "Iz grafa razberemo, da obstaja povezava med starostjo in rezultatom posameznika. Mlajši kot je tekmovalec, več točk doseže na tekmovanju. Ta povezava velja do leta 1980, potem pa od leta 1995 naprej velja, da mlajši kot je tekmovalec, manj točk doseže. Tekmovalci iz leta 1995 dosežejo povprečno več točk kot tisti iz leta 1980. Vmes ne vemo, kakšen je trend.\n",
    "\n",
    "***Opomba***: zdi se nam, da pozitivna korelacija (med starostjo in rezultatom tekmovalca) velja do 1995, vendar ne moremo zagotovo trditi, saj imamo le enega tekmovalca rojenega v obdobju vmes. "
   ]
  },
  {
   "cell_type": "markdown",
   "metadata": {},
   "source": [
    "###### **Hipoteza 2**:\n",
    "Zanima nas, katera starostna skupina je najbolj uspešna na tekmovanjih."
   ]
  },
  {
   "cell_type": "markdown",
   "metadata": {},
   "source": [
    "Kot prvi kriterij uspešnosti na tekmovanjih bomo vzeli povprečje vrednosti počepa, mrtvega dviga in potiska s prsi iz vseh kategorij. Najprej si bomo ogledali povprečje desetletja."
   ]
  },
  {
   "cell_type": "code",
   "execution_count": 82,
   "metadata": {},
   "outputs": [
    {
     "data": {
      "image/png": "[encoded data removed]",
      "text/plain": [
       "<Figure size 432x288 with 1 Axes>"
      ]
     },
     "metadata": {
      "needs_background": "light"
     },
     "output_type": "display_data"
    }
   ],
   "source": [
    "tekmovalci.groupby('desetletje').pocep.mean().plot()\n",
    "tekmovalci.groupby('desetletje').mrtvi_dvig.mean().plot()\n",
    "tekmovalci.groupby('desetletje').potisk_s_prsi.mean().plot()\n",
    "plt.legend(['počep', 'mrtvi dvig', 'potisk s prsi']);\n",
    "plt.title('Povprečje disciplin glede na starost');\n",
    "plt.ylabel(\"vrednost\");"
   ]
  },
  {
   "cell_type": "markdown",
   "metadata": {},
   "source": [
    "Opazimo, da so tekmovalci iz generacije devetdesetih let bolj uspešni pri mrtvem dvigu, tekmovalci iz sedemsedetih let pa bolj uspešni v disciplini potisk s prsi. Pri disciplini počep ne moremo zagotovo reči, katera generacija je boljša.\n",
    "\n",
    "***Opomba 1***: zdi se nam, da mlajši kot so tekmovalci (z izjemo mlajših od 20 let), bolj so uspešni v disciplinah.  To je seveda logično.\n",
    "\n",
    "***Opomba 2***: razlog za padec pri osemdesetih letih je ta, da imamo le enega tekmovalca iz te generacije. Ta tekmovalec je tekmoval v lahki kategoriji, zato je povprečje relativno nizko glede na druge generacije.\n",
    "\n",
    "***Opomba 3*** zgornji kriterij ni najboljši kriterij, saj se lahko zgodi, da so v neki generaciji tekmovalci samo iz težkih kategorij, v drugi generaciji pa samo iz lahkih kategorij."
   ]
  },
  {
   "cell_type": "markdown",
   "metadata": {},
   "source": [
    "Oglejmo si bolj natančno, tekmovalci katere generacije so bolj uspešni - naš kriterij bodo sedaj točke, saj so neodvisne od kategorij. V tabeli *najboljsi_moski* in *najboljse_zenske* vzamem 20 tekmovalcev in tekmovalk z največ točkami."
   ]
  },
  {
   "cell_type": "code",
   "execution_count": 83,
   "metadata": {},
   "outputs": [],
   "source": [
    "najboljsi_moski = tekmovalci[tekmovalci.spol == 'moski'].nlargest(20, 'tocke')\n",
    "najboljse_zenske = tekmovalci[tekmovalci.spol == 'zenska'].nlargest(20, 'tocke')"
   ]
  },
  {
   "cell_type": "code",
   "execution_count": 84,
   "metadata": {},
   "outputs": [
    {
     "data": {
      "image/png": "[encoded data removed]",
      "text/plain": [
       "<Figure size 720x360 with 2 Axes>"
      ]
     },
     "metadata": {
      "needs_background": "light"
     },
     "output_type": "display_data"
    }
   ],
   "source": [
    "fig = plt.figure()\n",
    "ax1 = fig.add_subplot(121)\n",
    "ax2 = fig.add_subplot(122)\n",
    "najboljsi_moski.groupby('letnica_rojstva').kategorija.count().sort_values(ascending = False).plot(kind = 'bar', \n",
    "                                                                                                  ax = ax1,\n",
    "                                                                                                 figsize=(10,5),\n",
    "                                                                                                 color = my_colors);\n",
    "najboljse_zenske.groupby('letnica_rojstva').kategorija.count().sort_values(ascending = False).plot(kind = 'bar',\n",
    "                                                                                                   ax = ax2,                                                                                                   \n",
    "                                                                                                   figsize=(10,5),\n",
    "                                                                                                  color = my_colors);\n",
    "ax1.set_title('Moški TOP 20'), ax2.set_title('Ženske TOP 20');\n",
    "ax1.set_xlabel(\"letnica rojstva\"), ax2.set_xlabel(\"letnica rojstva\")\n",
    "ax1.set_ylabel(\"število tekmovalcev\"), ax2.set_ylabel(\"število tekmovalcev\")\n",
    "\n",
    "plt.suptitle('ŠTEVILO TEKMOVALCEV NA GENERACIJO');"
   ]
  },
  {
   "cell_type": "markdown",
   "metadata": {},
   "source": [
    "Osem moških tekmovalcev izmed 20 najboljših je bilo rojenih leta 1995 in trije v letu 1996. Pet tekmovalk pripada generaciji 1995 in tri tekmovalce letu 1996. Sedaj lahko trdimo, da sta najboljši generaciji na uradnih IPF tekmovanjih v letu 2018 generaciji 1995 in 1996."
   ]
  },
  {
   "cell_type": "markdown",
   "metadata": {},
   "source": [
    "Oglejmo si, kateri so bili tekmovalci, ki so dosegli največ točk na tekmovanjih."
   ]
  },
  {
   "cell_type": "code",
   "execution_count": 85,
   "metadata": {},
   "outputs": [
    {
     "data": {
      "text/html": [
       "<div>\n",
       "<style scoped>\n",
       "    .dataframe tbody tr th:only-of-type {\n",
       "        vertical-align: middle;\n",
       "    }\n",
       "\n",
       "    .dataframe tbody tr th {\n",
       "        vertical-align: top;\n",
       "    }\n",
       "\n",
       "    .dataframe thead th {\n",
       "        text-align: right;\n",
       "    }\n",
       "</style>\n",
       "<table border=\"1\" class=\"dataframe\">\n",
       "  <thead>\n",
       "    <tr style=\"text-align: right;\">\n",
       "      <th></th>\n",
       "      <th>ime</th>\n",
       "      <th>tocke</th>\n",
       "    </tr>\n",
       "    <tr>\n",
       "      <th>ID_tekmovalca</th>\n",
       "      <th></th>\n",
       "      <th></th>\n",
       "    </tr>\n",
       "  </thead>\n",
       "  <tbody>\n",
       "    <tr>\n",
       "      <th>1044530</th>\n",
       "      <td>McLaren Dale</td>\n",
       "      <td>508.97</td>\n",
       "    </tr>\n",
       "    <tr>\n",
       "      <th>1015983</th>\n",
       "      <td>Dickson Charles</td>\n",
       "      <td>507.56</td>\n",
       "    </tr>\n",
       "    <tr>\n",
       "      <th>1015966</th>\n",
       "      <td>Pho Clifton</td>\n",
       "      <td>506.56</td>\n",
       "    </tr>\n",
       "    <tr>\n",
       "      <th>1044556</th>\n",
       "      <td>Davenport Steven</td>\n",
       "      <td>503.74</td>\n",
       "    </tr>\n",
       "    <tr>\n",
       "      <th>1015972</th>\n",
       "      <td>Seay Micheal</td>\n",
       "      <td>502.78</td>\n",
       "    </tr>\n",
       "    <tr>\n",
       "      <th>1016007</th>\n",
       "      <td>Davis Michael</td>\n",
       "      <td>500.69</td>\n",
       "    </tr>\n",
       "    <tr>\n",
       "      <th>1044527</th>\n",
       "      <td>Rowe Benjamin</td>\n",
       "      <td>499.63</td>\n",
       "    </tr>\n",
       "    <tr>\n",
       "      <th>1044557</th>\n",
       "      <td>Magistrale Steve</td>\n",
       "      <td>498.82</td>\n",
       "    </tr>\n",
       "    <tr>\n",
       "      <th>1016030</th>\n",
       "      <td>Pena Joseph</td>\n",
       "      <td>498.49</td>\n",
       "    </tr>\n",
       "    <tr>\n",
       "      <th>1044558</th>\n",
       "      <td>Pinc Jan</td>\n",
       "      <td>496.60</td>\n",
       "    </tr>\n",
       "  </tbody>\n",
       "</table>\n",
       "</div>"
      ],
      "text/plain": [
       "                            ime   tocke\n",
       "ID_tekmovalca                          \n",
       "1044530            McLaren Dale  508.97\n",
       "1015983         Dickson Charles  507.56\n",
       "1015966             Pho Clifton  506.56\n",
       "1044556        Davenport Steven  503.74\n",
       "1015972            Seay Micheal  502.78\n",
       "1016007           Davis Michael  500.69\n",
       "1044527           Rowe Benjamin  499.63\n",
       "1044557        Magistrale Steve  498.82\n",
       "1016030             Pena Joseph  498.49\n",
       "1044558                Pinc Jan  496.60"
      ]
     },
     "execution_count": 85,
     "metadata": {},
     "output_type": "execute_result"
    }
   ],
   "source": [
    "najboljsi_moski[['ime', 'tocke']].tail(10)"
   ]
  },
  {
   "cell_type": "code",
   "execution_count": 86,
   "metadata": {
    "scrolled": false
   },
   "outputs": [
    {
     "data": {
      "image/png": "[encoded data removed]",
      "text/plain": [
       "<Figure size 720x360 with 2 Axes>"
      ]
     },
     "metadata": {
      "needs_background": "light"
     },
     "output_type": "display_data"
    }
   ],
   "source": [
    "fig = plt.figure()\n",
    "ax1 = fig.add_subplot(121)\n",
    "ax2 = fig.add_subplot(122)\n",
    "najboljsi_moski[['ime', 'tocke']].tail(10).plot(x = 'ime', \n",
    "                                                kind = 'bar',\n",
    "                                                ylim=(490, 510),\n",
    "                                                ax = ax1,\n",
    "                                                figsize=(10,5),\n",
    "                                                color = my_colors)\n",
    "najboljse_zenske[['ime', 'tocke']].tail(10).plot(x = 'ime',\n",
    "                                                 kind = 'bar',\n",
    "                                                 ylim=(440, 460),\n",
    "                                                 ax = ax2, \n",
    "                                                 figsize=(10,5),\n",
    "                                                 color = my_colors)\n",
    "ax1.set_title('Moši TOP 10'), ax2.set_title('Ženske TOP 10');\n",
    "plt.suptitle('NAJBOLJŠI TEKMOVALCI');"
   ]
  },
  {
   "cell_type": "markdown",
   "metadata": {},
   "source": [
    "Opazimo, da je pri ženskah razlika v točkah med prvim in drugim mestom nekoliko večja kot je ta razlika pri moških. Razlika med prvim in desetim tekmovalcev pri moških je 12 točk, pri ženskah pa je ta razlika 13 točk. Pri tekmovalkah je graf nekoliko bolj stopničast kot pri moških - med prvim in drugim ter med šestim in sedmim mestom je večja razlika točk, medtem ko so pri moških padci nekoliko bolj enakomerni. "
   ]
  },
  {
   "cell_type": "markdown",
   "metadata": {},
   "source": [
    "Oglejmo si, v katerih kategorijah je tekmovalo top 20 tekmovalcev in tekmovalk. "
   ]
  },
  {
   "cell_type": "code",
   "execution_count": 87,
   "metadata": {
    "scrolled": false
   },
   "outputs": [
    {
     "data": {
      "image/png": "[encoded data removed]",
      "text/plain": [
       "<Figure size 720x360 with 2 Axes>"
      ]
     },
     "metadata": {
      "needs_background": "light"
     },
     "output_type": "display_data"
    }
   ],
   "source": [
    "fig = plt.figure()\n",
    "ax1 = fig.add_subplot(121)\n",
    "ax2 = fig.add_subplot(122)\n",
    "najboljsi_moski.groupby('kategorija').kategorija.count().sort_values(ascending = False).plot(kind= 'bar',\n",
    "                                                                                            ax = ax1,\n",
    "                                                                                            color = my_colors,\n",
    "                                                                                            figsize=(10,5))\n",
    "\n",
    "najboljse_zenske.groupby('kategorija').kategorija.count().sort_values(ascending = False).plot(kind= 'bar', \n",
    "                                                                                             ax = ax2, \n",
    "                                                                                             color = my_colors,\n",
    "                                                                                             figsize=(10,5))\n",
    "ax1.set_title('Moški TOP 20'), ax2.set_title('Ženske TOP 20');\n",
    "ax1.set_ylabel(\"število\"), ax2.set_ylabel(\"število\")\n",
    "plt.suptitle('KATEGORIJE');"
   ]
  },
  {
   "cell_type": "markdown",
   "metadata": {},
   "source": [
    "Zgornji graf prikazuje, v katerih kategorijah so tekmovali moški in ženske, ki so so dosegli največ točk na tekmovanjih (top 20). Največ tekmovalcev je tekmovalo v najtežji kategoriji: +120 kg, pri ženskah pa jih je bilo največ v kategoriji 63 kg."
   ]
  },
  {
   "cell_type": "markdown",
   "metadata": {},
   "source": [
    "**Hipoteza 3**: Ali obstaja povezava med narodnostjo in uvrstitvijo tekmovalca?"
   ]
  },
  {
   "cell_type": "markdown",
   "metadata": {},
   "source": [
    "Najprej si ogledamo, katere države sodelujejo na tekmovanju."
   ]
  },
  {
   "cell_type": "code",
   "execution_count": 88,
   "metadata": {},
   "outputs": [
    {
     "data": {
      "text/plain": [
       "drzava\n",
       "USA                132\n",
       "Canada              76\n",
       "Great Britain       54\n",
       "Japan               50\n",
       "France              34\n",
       "Finland             33\n",
       "Mongolia            27\n",
       "Russia              22\n",
       "Germany             21\n",
       "Norway              21\n",
       "                  ... \n",
       "Slovak Republic      1\n",
       "Bulgaria             1\n",
       "Colombia             1\n",
       "Iran                 1\n",
       "Peru                 1\n",
       "Ecuador              1\n",
       "Egypt                1\n",
       "Malaysia             1\n",
       "Lebanon              1\n",
       "Algeria              1\n",
       "Length: 51, dtype: int64"
      ]
     },
     "execution_count": 88,
     "metadata": {},
     "output_type": "execute_result"
    }
   ],
   "source": [
    "tekmovalci.groupby('drzava').size().sort_values(ascending = False)"
   ]
  },
  {
   "cell_type": "markdown",
   "metadata": {},
   "source": [
    "Države hočemo razvrstiti tako, da bomo videli, kakšen delež tekmovalcev iz države je stalo na stopničkah. Naredimo novo tabelo *na_stopnickah*, ki vsebuje število tekmovalcev, ki so bili prvi, drugi ali tretji, po državah.\n",
    "Tabela *st_tekmovalcev* vsebuje število tekmovalev po državi."
   ]
  },
  {
   "cell_type": "code",
   "execution_count": 89,
   "metadata": {},
   "outputs": [],
   "source": [
    "na_stopnickah = tekmovalci[(tekmovalci.uvrstitev == 1) |\n",
    "                           (tekmovalci.uvrstitev == 2) | \n",
    "                           (tekmovalci.uvrstitev == 3)][['uvrstitev',\n",
    "                                                         'drzava']].groupby('drzava').count()\n",
    "st_tekmovalcev = tekmovalci[['uvrstitev',\n",
    "                             'drzava']].groupby('drzava').count()"
   ]
  },
  {
   "cell_type": "markdown",
   "metadata": {},
   "source": [
    "Združimo prejšnji tabeli v tabelo *drzave_stopnicke*, dodamo nov stolpec **delez_stopnick**, ki vsebuje delež, koliko tekmovalcev od vseh v državi je bilo prvih, drugih in tretjih skupaj. "
   ]
  },
  {
   "cell_type": "code",
   "execution_count": 90,
   "metadata": {},
   "outputs": [
    {
     "data": {
      "text/html": [
       "<div>\n",
       "<style scoped>\n",
       "    .dataframe tbody tr th:only-of-type {\n",
       "        vertical-align: middle;\n",
       "    }\n",
       "\n",
       "    .dataframe tbody tr th {\n",
       "        vertical-align: top;\n",
       "    }\n",
       "\n",
       "    .dataframe thead th {\n",
       "        text-align: right;\n",
       "    }\n",
       "</style>\n",
       "<table border=\"1\" class=\"dataframe\">\n",
       "  <thead>\n",
       "    <tr style=\"text-align: right;\">\n",
       "      <th></th>\n",
       "      <th>stopnicke</th>\n",
       "      <th>vsi</th>\n",
       "      <th>delez_stopnick</th>\n",
       "    </tr>\n",
       "    <tr>\n",
       "      <th>drzava</th>\n",
       "      <th></th>\n",
       "      <th></th>\n",
       "      <th></th>\n",
       "    </tr>\n",
       "  </thead>\n",
       "  <tbody>\n",
       "    <tr>\n",
       "      <th>Australia</th>\n",
       "      <td>7.0</td>\n",
       "      <td>13</td>\n",
       "      <td>0.538462</td>\n",
       "    </tr>\n",
       "    <tr>\n",
       "      <th>Belarus</th>\n",
       "      <td>1.0</td>\n",
       "      <td>3</td>\n",
       "      <td>0.333333</td>\n",
       "    </tr>\n",
       "    <tr>\n",
       "      <th>Belgium</th>\n",
       "      <td>2.0</td>\n",
       "      <td>3</td>\n",
       "      <td>0.666667</td>\n",
       "    </tr>\n",
       "    <tr>\n",
       "      <th>Brazil</th>\n",
       "      <td>1.0</td>\n",
       "      <td>11</td>\n",
       "      <td>0.090909</td>\n",
       "    </tr>\n",
       "    <tr>\n",
       "      <th>Canada</th>\n",
       "      <td>33.0</td>\n",
       "      <td>76</td>\n",
       "      <td>0.434211</td>\n",
       "    </tr>\n",
       "    <tr>\n",
       "      <th>Czech Republic</th>\n",
       "      <td>5.0</td>\n",
       "      <td>14</td>\n",
       "      <td>0.357143</td>\n",
       "    </tr>\n",
       "    <tr>\n",
       "      <th>Denmark</th>\n",
       "      <td>2.0</td>\n",
       "      <td>4</td>\n",
       "      <td>0.500000</td>\n",
       "    </tr>\n",
       "    <tr>\n",
       "      <th>Finland</th>\n",
       "      <td>16.0</td>\n",
       "      <td>33</td>\n",
       "      <td>0.484848</td>\n",
       "    </tr>\n",
       "    <tr>\n",
       "      <th>France</th>\n",
       "      <td>16.0</td>\n",
       "      <td>34</td>\n",
       "      <td>0.470588</td>\n",
       "    </tr>\n",
       "    <tr>\n",
       "      <th>Germany</th>\n",
       "      <td>9.0</td>\n",
       "      <td>21</td>\n",
       "      <td>0.428571</td>\n",
       "    </tr>\n",
       "    <tr>\n",
       "      <th>...</th>\n",
       "      <td>...</td>\n",
       "      <td>...</td>\n",
       "      <td>...</td>\n",
       "    </tr>\n",
       "    <tr>\n",
       "      <th>Ecuador</th>\n",
       "      <td>0.0</td>\n",
       "      <td>1</td>\n",
       "      <td>0.000000</td>\n",
       "    </tr>\n",
       "    <tr>\n",
       "      <th>Egypt</th>\n",
       "      <td>0.0</td>\n",
       "      <td>1</td>\n",
       "      <td>0.000000</td>\n",
       "    </tr>\n",
       "    <tr>\n",
       "      <th>Indonesia</th>\n",
       "      <td>0.0</td>\n",
       "      <td>1</td>\n",
       "      <td>0.000000</td>\n",
       "    </tr>\n",
       "    <tr>\n",
       "      <th>Lebanon</th>\n",
       "      <td>0.0</td>\n",
       "      <td>1</td>\n",
       "      <td>0.000000</td>\n",
       "    </tr>\n",
       "    <tr>\n",
       "      <th>Malaysia</th>\n",
       "      <td>0.0</td>\n",
       "      <td>1</td>\n",
       "      <td>0.000000</td>\n",
       "    </tr>\n",
       "    <tr>\n",
       "      <th>Marocco</th>\n",
       "      <td>0.0</td>\n",
       "      <td>2</td>\n",
       "      <td>0.000000</td>\n",
       "    </tr>\n",
       "    <tr>\n",
       "      <th>Mexico</th>\n",
       "      <td>0.0</td>\n",
       "      <td>4</td>\n",
       "      <td>0.000000</td>\n",
       "    </tr>\n",
       "    <tr>\n",
       "      <th>Switzerland</th>\n",
       "      <td>0.0</td>\n",
       "      <td>1</td>\n",
       "      <td>0.000000</td>\n",
       "    </tr>\n",
       "    <tr>\n",
       "      <th>Tadjikistan</th>\n",
       "      <td>0.0</td>\n",
       "      <td>1</td>\n",
       "      <td>0.000000</td>\n",
       "    </tr>\n",
       "    <tr>\n",
       "      <th>Trinidad and Tobago</th>\n",
       "      <td>0.0</td>\n",
       "      <td>2</td>\n",
       "      <td>0.000000</td>\n",
       "    </tr>\n",
       "  </tbody>\n",
       "</table>\n",
       "<p>51 rows × 3 columns</p>\n",
       "</div>"
      ],
      "text/plain": [
       "                     stopnicke  vsi  delez_stopnick\n",
       "drzava                                             \n",
       "Australia                  7.0   13        0.538462\n",
       "Belarus                    1.0    3        0.333333\n",
       "Belgium                    2.0    3        0.666667\n",
       "Brazil                     1.0   11        0.090909\n",
       "Canada                    33.0   76        0.434211\n",
       "Czech Republic             5.0   14        0.357143\n",
       "Denmark                    2.0    4        0.500000\n",
       "Finland                   16.0   33        0.484848\n",
       "France                    16.0   34        0.470588\n",
       "Germany                    9.0   21        0.428571\n",
       "...                        ...  ...             ...\n",
       "Ecuador                    0.0    1        0.000000\n",
       "Egypt                      0.0    1        0.000000\n",
       "Indonesia                  0.0    1        0.000000\n",
       "Lebanon                    0.0    1        0.000000\n",
       "Malaysia                   0.0    1        0.000000\n",
       "Marocco                    0.0    2        0.000000\n",
       "Mexico                     0.0    4        0.000000\n",
       "Switzerland                0.0    1        0.000000\n",
       "Tadjikistan                0.0    1        0.000000\n",
       "Trinidad and Tobago        0.0    2        0.000000\n",
       "\n",
       "[51 rows x 3 columns]"
      ]
     },
     "execution_count": 90,
     "metadata": {},
     "output_type": "execute_result"
    }
   ],
   "source": [
    "drzave_stopnicke = pd.merge(na_stopnickah,\n",
    "                       st_tekmovalcev,\n",
    "                       how = 'outer',\n",
    "                       left_on='drzava', \n",
    "                       right_on='drzava')\n",
    "drzave_stopnicke.columns = ['stopnicke', 'vsi']\n",
    "drzave_stopnicke['delez_stopnick'] = drzave_stopnicke.stopnicke / drzave_stopnicke.vsi\n",
    "drzave_stopnicke.fillna(0, inplace=True)\n",
    "drzave_stopnicke"
   ]
  },
  {
   "cell_type": "markdown",
   "metadata": {},
   "source": [
    "Posebej si ogledamo države, kjer so vsi tekmovalci stali na stopničkah."
   ]
  },
  {
   "cell_type": "code",
   "execution_count": 92,
   "metadata": {
    "scrolled": true
   },
   "outputs": [
    {
     "data": {
      "text/html": [
       "<div>\n",
       "<style scoped>\n",
       "    .dataframe tbody tr th:only-of-type {\n",
       "        vertical-align: middle;\n",
       "    }\n",
       "\n",
       "    .dataframe tbody tr th {\n",
       "        vertical-align: top;\n",
       "    }\n",
       "\n",
       "    .dataframe thead th {\n",
       "        text-align: right;\n",
       "    }\n",
       "</style>\n",
       "<table border=\"1\" class=\"dataframe\">\n",
       "  <thead>\n",
       "    <tr style=\"text-align: right;\">\n",
       "      <th></th>\n",
       "      <th>stopnicke</th>\n",
       "      <th>vsi</th>\n",
       "      <th>delez_stopnick</th>\n",
       "    </tr>\n",
       "    <tr>\n",
       "      <th>drzava</th>\n",
       "      <th></th>\n",
       "      <th></th>\n",
       "      <th></th>\n",
       "    </tr>\n",
       "  </thead>\n",
       "  <tbody>\n",
       "    <tr>\n",
       "      <th>Lithuania</th>\n",
       "      <td>3.0</td>\n",
       "      <td>3</td>\n",
       "      <td>1.0</td>\n",
       "    </tr>\n",
       "    <tr>\n",
       "      <th>Hong Kong</th>\n",
       "      <td>2.0</td>\n",
       "      <td>2</td>\n",
       "      <td>1.0</td>\n",
       "    </tr>\n",
       "    <tr>\n",
       "      <th>Kyrgyzstan</th>\n",
       "      <td>2.0</td>\n",
       "      <td>2</td>\n",
       "      <td>1.0</td>\n",
       "    </tr>\n",
       "    <tr>\n",
       "      <th>Uruguay</th>\n",
       "      <td>2.0</td>\n",
       "      <td>2</td>\n",
       "      <td>1.0</td>\n",
       "    </tr>\n",
       "    <tr>\n",
       "      <th>Iran</th>\n",
       "      <td>1.0</td>\n",
       "      <td>1</td>\n",
       "      <td>1.0</td>\n",
       "    </tr>\n",
       "    <tr>\n",
       "      <th>Peru</th>\n",
       "      <td>1.0</td>\n",
       "      <td>1</td>\n",
       "      <td>1.0</td>\n",
       "    </tr>\n",
       "    <tr>\n",
       "      <th>Philippines</th>\n",
       "      <td>1.0</td>\n",
       "      <td>1</td>\n",
       "      <td>1.0</td>\n",
       "    </tr>\n",
       "    <tr>\n",
       "      <th>Slovak Republic</th>\n",
       "      <td>1.0</td>\n",
       "      <td>1</td>\n",
       "      <td>1.0</td>\n",
       "    </tr>\n",
       "    <tr>\n",
       "      <th>Slovenia</th>\n",
       "      <td>1.0</td>\n",
       "      <td>1</td>\n",
       "      <td>1.0</td>\n",
       "    </tr>\n",
       "  </tbody>\n",
       "</table>\n",
       "</div>"
      ],
      "text/plain": [
       "                 stopnicke  vsi  delez_stopnick\n",
       "drzava                                         \n",
       "Lithuania              3.0    3             1.0\n",
       "Hong Kong              2.0    2             1.0\n",
       "Kyrgyzstan             2.0    2             1.0\n",
       "Uruguay                2.0    2             1.0\n",
       "Iran                   1.0    1             1.0\n",
       "Peru                   1.0    1             1.0\n",
       "Philippines            1.0    1             1.0\n",
       "Slovak Republic        1.0    1             1.0\n",
       "Slovenia               1.0    1             1.0"
      ]
     },
     "execution_count": 92,
     "metadata": {},
     "output_type": "execute_result"
    }
   ],
   "source": [
    "drzave_stopnicke[drzave_stopnicke.delez_stopnick == 1].sort_values(by = 'stopnicke', ascending = False)"
   ]
  },
  {
   "cell_type": "markdown",
   "metadata": {},
   "source": [
    "***Opomba***: od zgornjih držav bomo v nadaljnji analizi upoštevali le Litvo, saj držav, iz katerih je tekmovalo manj kot 3 tekmovalci, ne bomo upoštevali."
   ]
  },
  {
   "cell_type": "code",
   "execution_count": 94,
   "metadata": {},
   "outputs": [
    {
     "data": {
      "image/png": "[encoded data removed]",
      "text/plain": [
       "<Figure size 432x288 with 1 Axes>"
      ]
     },
     "metadata": {
      "needs_background": "light"
     },
     "output_type": "display_data"
    }
   ],
   "source": [
    "drzave_stopnicke[drzave_stopnicke.vsi >= 3].delez_stopnick.sort_values(ascending = False).head(10).plot(kind = 'bar',\n",
    "                                                                                                       color = my_colors);\n",
    "plt.title('Države z največjim deležom tekmovalcev na stopničkah'), plt.xlabel(\"država\"), plt.ylabel(\"delež\");"
   ]
  },
  {
   "cell_type": "markdown",
   "metadata": {},
   "source": [
    "Rezultati nas ne presenečajo: Litva, Rusija, Poljska in Ukrajina spadajo pod države, kjer imajo tekmovalci nekoliko drugačen način treniranja: intenzivnost treningov je zelo visoka - submaksimalni in maksimalni treningi, tehniko izvajanja vadijo na velikih težah, število ponovitev v seriji je malo (od 3 do 5), število serij je veliko (od 5 naprej) , od 5 do 6 treningov na teden. Tak način treninga je ZELO težaven, vendar ljudje, ki tako trenirajo, dosegajo zelo dobre rezultate."
   ]
  },
  {
   "cell_type": "markdown",
   "metadata": {},
   "source": [
    "Za konec pa bi radi predstavili, kako dobri tekmovalci so tisti najboljši. Kot relativno mero bomo vzeli razmerje med telesno težo in dvignjeno težo. Oglejmo si tekmovalce, ki imajo najvišje razmerje v počepu, potisku s prsi in v mrtvem dvigu."
   ]
  },
  {
   "cell_type": "code",
   "execution_count": 95,
   "metadata": {},
   "outputs": [
    {
     "data": {
      "text/plain": [
       "(3.9, 3.1, 5.1)"
      ]
     },
     "execution_count": 95,
     "metadata": {},
     "output_type": "execute_result"
    }
   ],
   "source": [
    "najboljsi_moski['ratio_pocep'] = najboljsi_moski.pocep / najboljsi_moski.teza\n",
    "najboljsi_moski['ratio_potisk_prsa'] = najboljsi_moski.potisk_s_prsi / najboljsi_moski.teza\n",
    "najboljsi_moski['ratio_mrtvi_dvig'] = najboljsi_moski.mrtvi_dvig / najboljsi_moski.teza\n",
    "najboljsi_moski.ratio_pocep.max().round(1), najboljsi_moski.ratio_potisk_prsa.max().round(1), najboljsi_moski.ratio_mrtvi_dvig.max().round(1)"
   ]
  },
  {
   "cell_type": "markdown",
   "metadata": {},
   "source": [
    "To je razmerje (počep, potisk s prsi, mrtvi dvig).\n",
    "Razmerja so presenetljivo zelo visoka - oglejmo si, kdo ima razmerje mrtvega dviga 5.1:"
   ]
  },
  {
   "cell_type": "code",
   "execution_count": 78,
   "metadata": {
    "scrolled": false
   },
   "outputs": [
    {
     "data": {
      "text/plain": [
       "uvrstitev                     1\n",
       "ime                LaCoe Dalton\n",
       "razred                        J\n",
       "letnica_rojstva            1995\n",
       "drzava                      USA\n",
       "teza                      52.92\n",
       "pocep                       170\n",
       "potisk_s_prsi               117\n",
       "mrtvi_dvig                  271\n",
       "skupaj                      559\n",
       "tocke                    538.63\n",
       "kategorija          moški 53 kg\n",
       "spol                      moski\n",
       "desetletje                 1990\n",
       "Name: 1015956, dtype: object"
      ]
     },
     "execution_count": 78,
     "metadata": {},
     "output_type": "execute_result"
    }
   ],
   "source": [
    "tekmovalci.loc[1015956]"
   ]
  },
  {
   "cell_type": "markdown",
   "metadata": {},
   "source": [
    "To je tudi trenutni rekord v razredu Junior (J). Povezava do posnetka tega dviga: https://www.youtube.com/watch?v=BcsJGE1uumA."
   ]
  }
 ],
 "metadata": {
  "kernelspec": {
   "display_name": "Python 3",
   "language": "python",
   "name": "python3"
  },
  "language_info": {
   "codemirror_mode": {
    "name": "ipython",
    "version": 3
   },
   "file_extension": ".py",
   "mimetype": "text/x-python",
   "name": "python",
   "nbconvert_exporter": "python",
   "pygments_lexer": "ipython3",
   "version": "3.7.0"
  }
 },
 "nbformat": 4,
 "nbformat_minor": 2
}
